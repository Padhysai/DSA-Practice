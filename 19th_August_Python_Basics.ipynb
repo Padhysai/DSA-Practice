{
  "nbformat": 4,
  "nbformat_minor": 0,
  "metadata": {
    "colab": {
      "provenance": []
    },
    "kernelspec": {
      "name": "python3",
      "display_name": "Python 3"
    },
    "language_info": {
      "name": "python"
    }
  },
  "cells": [
    {
      "cell_type": "markdown",
      "source": [
        "## TOPIC: Python Basics Variable"
      ],
      "metadata": {
        "id": "Uip5KnFbb1wB"
      }
    },
    {
      "cell_type": "markdown",
      "source": [
        "1. Declare two variables, `x` and `y`, and assign them integer values.\n",
        "Swap the values of these variables without using any temporary\n",
        "variable."
      ],
      "metadata": {
        "id": "Vg-mKppbbzcq"
      }
    },
    {
      "cell_type": "code",
      "execution_count": 1,
      "metadata": {
        "colab": {
          "base_uri": "https://localhost:8080/"
        },
        "id": "VOKcOJzZbb5U",
        "outputId": "d82a24ad-515c-423f-8a1d-6bd40b9202a6"
      },
      "outputs": [
        {
          "output_type": "stream",
          "name": "stdout",
          "text": [
            "Numbers after swap -  20 10\n"
          ]
        }
      ],
      "source": [
        "x = 10\n",
        "y = 20\n",
        "\n",
        "#Swap Variables\n",
        "x,y = y,x\n",
        "\n",
        "print(\"Numbers after swap - \", x, y)"
      ]
    },
    {
      "cell_type": "markdown",
      "source": [
        "2. Create a program that calculates the area of a rectangle. Take the\n",
        "length and width as inputs from the user and store them in variables.\n",
        "Calculate and display the area."
      ],
      "metadata": {
        "id": "Q76RgIjkcE2s"
      }
    },
    {
      "cell_type": "code",
      "source": [
        "length = int(input(\"Enter length of Rectangle (cms) \"))\n",
        "width = int(input(\"Enter Width of Rectangle (cms) \"))\n",
        "\n",
        "area = length * width\n",
        "\n",
        "print(\"Area of Rectangle: \", area)"
      ],
      "metadata": {
        "colab": {
          "base_uri": "https://localhost:8080/"
        },
        "id": "YSA28A_DcBXQ",
        "outputId": "1fbce273-87e5-4241-ff61-1f95e5205b74"
      },
      "execution_count": 3,
      "outputs": [
        {
          "output_type": "stream",
          "name": "stdout",
          "text": [
            "Enter length of Rectangle (cms) 10\n",
            "Enter Width of Rectangle (cms) 20\n",
            "Area of Rectangle:  200\n"
          ]
        }
      ]
    },
    {
      "cell_type": "markdown",
      "source": [
        "3. Write a Python program that converts temperature from Celsius to\n",
        "Fahrenheit. Take the temperature in Celsius as input, store it in a\n",
        "variable, convert it to Fahrenheit, and display the result."
      ],
      "metadata": {
        "id": "RKLHCtz6cwsu"
      }
    },
    {
      "cell_type": "code",
      "source": [
        "temp_celsius = int(input(\"Enter temperature in Celsius \"))\n",
        "\n",
        "temp_farn = (temp_celsius * 1.8) + 32\n",
        "\n",
        "print(\"Temperature in Fahrenheit: \", temp_farn)"
      ],
      "metadata": {
        "colab": {
          "base_uri": "https://localhost:8080/"
        },
        "id": "ssSYyuaScXyi",
        "outputId": "9be1af5d-083b-4382-8bcd-660b0cc57512"
      },
      "execution_count": 4,
      "outputs": [
        {
          "output_type": "stream",
          "name": "stdout",
          "text": [
            "Enter temperature in Celsius 30\n",
            "Temperature in Fahrenheit:  86.0\n"
          ]
        }
      ]
    },
    {
      "cell_type": "markdown",
      "source": [
        "## TOPIC: String Based Questions"
      ],
      "metadata": {
        "id": "qej6rDvedkRo"
      }
    },
    {
      "cell_type": "markdown",
      "source": [
        "1. Write a Python program that takes a string as input and prints the\n",
        "length of the string."
      ],
      "metadata": {
        "id": "9mnFqL48dn42"
      }
    },
    {
      "cell_type": "code",
      "source": [
        "input = str(input(\"Enter a string \"))\n",
        "\n",
        "length = len(input)\n",
        "\n",
        "print(\"Length of string - \", length)"
      ],
      "metadata": {
        "colab": {
          "base_uri": "https://localhost:8080/"
        },
        "id": "pmMz2Y2OddIK",
        "outputId": "ec630e55-1d64-4ccb-bd71-e4b086c5c33b"
      },
      "execution_count": 5,
      "outputs": [
        {
          "output_type": "stream",
          "name": "stdout",
          "text": [
            "Enter a string sai\n",
            "Length of string -  3\n"
          ]
        }
      ]
    },
    {
      "cell_type": "markdown",
      "source": [
        "2. Create a program that takes a sentence from the user and counts the\n",
        "number of vowels (a, e, i, o, u) in the string."
      ],
      "metadata": {
        "id": "W4OA4rMQfK3n"
      }
    },
    {
      "cell_type": "code",
      "source": [
        "#Init a dictionary with vowels and their count as 0\n",
        "vowels = {'a': 0, 'e': 0, 'i': 0, 'o': 0, 'u': 0}\n",
        "\n",
        "input_str = input(\"Enter a sentence \")\n",
        "\n",
        "# Check if the char is vowel, If Yes Increment the count\n",
        "for char in input_str:\n",
        "  if char in vowels.keys():\n",
        "    vowels[char] += 1\n",
        "\n",
        "print(vowels)\n",
        "\n"
      ],
      "metadata": {
        "colab": {
          "base_uri": "https://localhost:8080/"
        },
        "id": "X7QMCiGsd9SI",
        "outputId": "68f3ca0e-8b36-45fa-a08d-b95632b886f4"
      },
      "execution_count": 3,
      "outputs": [
        {
          "output_type": "stream",
          "name": "stdout",
          "text": [
            "Enter a sentence There is a crocodile\n",
            "{'a': 1, 'e': 3, 'i': 2, 'o': 2, 'u': 0}\n"
          ]
        }
      ]
    },
    {
      "cell_type": "markdown",
      "source": [
        "3. Given a string, reverse the order of characters using string slicing and\n",
        "print the reversed string."
      ],
      "metadata": {
        "id": "qgJ46YUmiG22"
      }
    },
    {
      "cell_type": "code",
      "source": [
        "input_str = input(\"Enter a string \")\n",
        "\n",
        "# We will apply string slicing, -1 represents apply the loop from end of string\n",
        "reversed_str = input_str[::-1]\n",
        "\n",
        "print(reversed_str)"
      ],
      "metadata": {
        "colab": {
          "base_uri": "https://localhost:8080/"
        },
        "id": "K_sh_ZHRhXp-",
        "outputId": "9414c0b6-4d84-4634-cb08-344fb298f9d4"
      },
      "execution_count": 4,
      "outputs": [
        {
          "output_type": "stream",
          "name": "stdout",
          "text": [
            "Enter a string sai\n",
            "ias\n"
          ]
        }
      ]
    },
    {
      "cell_type": "markdown",
      "source": [
        "4. Write a program that takes a string as input and checks if it is a\n",
        "palindrome (reads the same forwards and backwards)."
      ],
      "metadata": {
        "id": "eA6vDopBiboI"
      }
    },
    {
      "cell_type": "code",
      "source": [
        "input_str = input(\"Enter a string \")\n",
        "\n",
        "if input_str == input_str[::-1]:\n",
        "  print(input_str, \" is Palindrome\")\n",
        "else:\n",
        "  print(input_str, \" is not Palindrome\")"
      ],
      "metadata": {
        "colab": {
          "base_uri": "https://localhost:8080/"
        },
        "id": "8eJp-YLmiR02",
        "outputId": "85c23355-a9b8-431d-fe03-6b3f03c07b1d"
      },
      "execution_count": 7,
      "outputs": [
        {
          "output_type": "stream",
          "name": "stdout",
          "text": [
            "Enter a string asa\n",
            "asa  is Palindrome\n"
          ]
        }
      ]
    },
    {
      "cell_type": "markdown",
      "source": [
        "5. Create a program that takes a string as input and removes all the\n",
        "spaces from it. Print the modified string without spaces."
      ],
      "metadata": {
        "id": "KWrx5ut_i5kp"
      }
    },
    {
      "cell_type": "code",
      "source": [
        "input_str = input(\"Enter a string \")\n",
        "\n",
        "rep_spaces_str = input_str.replace(\" \", \"\")\n",
        "\n",
        "print(\"String after removing spaces - \", rep_spaces_str)"
      ],
      "metadata": {
        "colab": {
          "base_uri": "https://localhost:8080/"
        },
        "id": "Jc5xSb7xix8a",
        "outputId": "a424076d-083d-496b-adf9-6efaa0c3b4ca"
      },
      "execution_count": 8,
      "outputs": [
        {
          "output_type": "stream",
          "name": "stdout",
          "text": [
            "Enter a string Tere is\n",
            "String after removing spaces -  Tereis\n"
          ]
        }
      ]
    },
    {
      "cell_type": "code",
      "source": [],
      "metadata": {
        "id": "8v4yL8b7jKYz"
      },
      "execution_count": 8,
      "outputs": []
    }
  ]
}